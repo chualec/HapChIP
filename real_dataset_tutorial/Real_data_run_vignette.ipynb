{
 "cells": [
  {
   "cell_type": "markdown",
   "id": "01e56453",
   "metadata": {},
   "source": [
    "Thank you for using this script!\n",
    "This is HapChIP, a tool that is useful for parsing HiChIP data and splitting them based on haplotype information"
   ]
  },
  {
   "cell_type": "markdown",
   "id": "73b8ee7e",
   "metadata": {},
   "source": [
    "Differences between haplotypes are difficult to understand. And this tool is provided as a way to differentiate the haplotypes using a phased vcf and a hichip bam file.\n",
    "The dataset we will be using is located in the \"example_input\" folder,\n",
    "and contains hichip reads from chromosome 21 of a ccRCC sample.\n",
    "The goal is to identify whether there are differences in chromosome interactions around the TMPRSS2-ERG fusion gene."
   ]
  },
  {
   "cell_type": "code",
   "execution_count": null,
   "id": "e51cc1c4",
   "metadata": {},
   "outputs": [],
   "source": [
    "#Clone the repository\n",
    "git clone https://github.com/chualec/HapChIP\n",
    "\n",
    "# Move to the folder\n",
    "cd HapChIP\n",
    "\n",
    "# Install necessary packages using conda\n",
    "conda create env --name env --file env.yaml"
   ]
  },
  {
   "cell_type": "markdown",
   "id": "78256783",
   "metadata": {},
   "source": [
    "If you don't have conda installed, you will need to install numpy, pysam and samtools on your own to continue\n",
    "Once you have the neccessary packages installed, you may test the tool from the command line using this command"
   ]
  },
  {
   "cell_type": "code",
   "execution_count": null,
   "id": "31069c3b",
   "metadata": {},
   "outputs": [],
   "source": [
    "bash tutorials/example_run.sh"
   ]
  },
  {
   "cell_type": "markdown",
   "id": "49ca1691",
   "metadata": {},
   "source": [
    "If there is no error, then the code has successfully run and you are set to run it on our own data!\n",
    "\n",
    "The code will take around 15 seconds to run, and will result in 5 output files in the example_output folder:,\n",
    "\n",
    "4 bam files containing reads split into either\n",
    "    - haplotype 1\n",
    "    - haplotype 2\n",
    "    - unknown haplotypes\n",
    "    - conflicting haplotypes\n",
    "    And also\n",
    "    - One log file containing overall summary\n",
    "    - and 2 files containin containing pairs information\n",
    "You may compare the results with the example outputs located in the folder \"example_output\" to see if the outputs are correct."
   ]
  },
  {
   "cell_type": "markdown",
   "id": "983bec51",
   "metadata": {},
   "source": [
    "To run the tool on your own data , you will have to provide a few required options. This includes:\n",
    "    -b : location of bam file\n",
    "    -v : location of phased VCF file\n",
    "    -o : output folder/name\n",
    "An example run command from the command line would look something like:"
   ]
  },
  {
   "cell_type": "code",
   "execution_count": null,
   "id": "59e00ba0",
   "metadata": {},
   "outputs": [],
   "source": [
    "python3 HapChIP/HapChIP.py -b example_input/example.bam -v example_input/example.vcf.gz -o ./example_output/"
   ]
  },
  {
   "cell_type": "markdown",
   "id": "687b078b",
   "metadata": {},
   "source": [
    "This will output 2 bam files which you will need to use samtools to index with "
   ]
  },
  {
   "cell_type": "code",
   "execution_count": null,
   "id": "012c5a60",
   "metadata": {},
   "outputs": [],
   "source": [
    "samtools index example_output/example.bam.hap1.bam\n",
    "samtools index example_output/example.bam.hap2.bam"
   ]
  },
  {
   "cell_type": "markdown",
   "id": "7a836906",
   "metadata": {},
   "source": [
    "As of now, the tool should have given 5 files as output, including \n",
    "4 bam files containing reads split into either\n",
    "    - haplotype 1\n",
    "    - haplotype 2\n",
    "    - unknown haplotypes\n",
    "    - conflicting haplotypes\n",
    "    And also\n",
    "    - One log file containing overall summary\n",
    "    \n",
    "However, the results are difficult to determine. \n",
    "So another script will help parse the bam file into readable tables.\n",
    "You can run that using this command from the command line:"
   ]
  },
  {
   "cell_type": "code",
   "execution_count": null,
   "id": "b8c14856",
   "metadata": {},
   "outputs": [],
   "source": [
    "python3 HapChIP/cistrans_parse.py -b example_output/example.bam.hap1.bam -o example_output/ --name hap1\n",
    "python3 HapChIP/cistrans_parse.py -b example_output/example.bam.hap2.bam -o example_output/ --name hap2"
   ]
  },
  {
   "cell_type": "markdown",
   "id": "4c57f6a7",
   "metadata": {},
   "source": [
    "This will output 2 text files, one for each haplotype, that will have information about where the hichip reads are, and which portions of the chromosome they connect.\n",
    "Matrix and heatmaps can then be used to identify which regions are significantly different between haplotype 1 and haplotype 2.\n",
    "And example output format of the hichip read information is as follow:"
   ]
  },
  {
   "cell_type": "markdown",
   "id": "13eb5928",
   "metadata": {},
   "source": [
    "A00839:56:HLGYYDRXX:2:2138:13512:13401  chr21   5223112 5223262 chr21   5221794 5221944\n",
    "A00839:31:HT2HKDMXX:2:1349:12491:1892   chr21   8993045 8993186 chr21   8989150 8989289\n",
    "NB551267:220:HCTY3BGXC:3:21501:6341:8228        chr21   8994519 8994670 chr21   8992478 8992627\n",
    "NB551267:220:HCTY3BGXC:4:22411:6988:6981        chr21   9749718 9749868 chr21   9744224 9744374\n",
    "A00839:56:HLGYYDRXX:2:2203:10203:28056  chr21   10339087        10339146        chr21   10337102        10337169\n",
    "A00839:56:HLGYYDRXX:1:2277:32958:11318  chr21   10425936        10426086        chr21   7952047 7952077\n",
    "A00839:56:HLGYYDRXX:2:2260:14751:18270  chr21   10481214        10481346        chr21   10469435        10469554\n",
    "A00839:56:HLGYYDRXX:2:2166:14733:20181  chr21   13882268        13882418        chr21   13862045        13862178\n",
    "A00839:56:HLGYYDRXX:2:2257:5150:16485   chr21   13919390        13919540        chr21   13917674        13917824\n",
    "A00839:56:HLGYYDRXX:2:2204:10574:23938  chr21   14121903        14122041        chr21   14119965        14120088\n"
   ]
  },
  {
   "cell_type": "markdown",
   "id": "8a608aec",
   "metadata": {},
   "source": [
    "Where the columns indicate:\n",
    "    read ID, mate1 chromosome, mate1 start, mate1 end, mate2 chromosome, mate2 start, mate2 end"
   ]
  },
  {
   "cell_type": "markdown",
   "id": "7ca42aed",
   "metadata": {},
   "source": [
    "Using these information in further analysis, we can identify that haplotype 2 has more activity than haplotype 1 across the chormosome."
   ]
  }
 ],
 "metadata": {
  "kernelspec": {
   "display_name": "Python 3 (ipykernel)",
   "language": "python",
   "name": "python3"
  },
  "language_info": {
   "codemirror_mode": {
    "name": "ipython",
    "version": 3
   },
   "file_extension": ".py",
   "mimetype": "text/x-python",
   "name": "python",
   "nbconvert_exporter": "python",
   "pygments_lexer": "ipython3",
   "version": "3.10.0"
  }
 },
 "nbformat": 4,
 "nbformat_minor": 5
}
