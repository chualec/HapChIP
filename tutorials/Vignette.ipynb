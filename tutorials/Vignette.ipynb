{
 "cells": [
  {
   "cell_type": "markdown",
   "id": "a8fa23a0",
   "metadata": {},
   "source": [
    "Thank you for using this script!\n",
    "This is HapChIP, a tool that is useful for parsing HiChIP data and splitting them based on haplotype information\n",
    "The goal of this tutorial is to help you install the tool, run it on an example data, and interprate the outputs.\n",
    "\n",
    "The example data provided is in the folder titled \"example_input\"\n",
    "Whereas the example output data is in the folder title \"example_output\"\n",
    "\n",
    "To install the tool, run this command:"
   ]
  },
  {
   "cell_type": "code",
   "execution_count": null,
   "id": "93c3d644",
   "metadata": {},
   "outputs": [],
   "source": [
    "# Clone the repository\n",
    "git clone https://github.com/chualec/HapChIP\n",
    "\n",
    "# Move to the folder\n",
    "cd HapChIP\n",
    "\n",
    "# Install necessary packages using conda\n",
    "conda create env --name env --file environment.yaml"
   ]
  },
  {
   "cell_type": "markdown",
   "id": "a40a193b",
   "metadata": {},
   "source": [
    "If you don't have conda installed, you will need to install numpy, pysam and samtools on your own to continue\n",
    "Once you have the neccessary packages installed, you may run the tool from the command line using this command"
   ]
  },
  {
   "cell_type": "code",
   "execution_count": null,
   "id": "eee2af88",
   "metadata": {},
   "outputs": [],
   "source": [
    "bash tutorials/example_run.sh"
   ]
  },
  {
   "cell_type": "markdown",
   "id": "5cf0aeb0",
   "metadata": {},
   "source": [
    "To run the tool, you will have to provide a few required options. This includes:\n",
    "-b : location of bam file\n",
    "-v : location of phased VCF file\n",
    "-o : output folder/name"
   ]
  },
  {
   "cell_type": "markdown",
   "id": "e3dd2151",
   "metadata": {},
   "source": [
    "The code will take around 15 seconds to run, and will result in 5 output files in the example_output folder:\n",
    "\n",
    "4 bam files containing reads split into either \n",
    "- haplotype 1\n",
    "- haplotype 2\n",
    "- unknown haplotypes \n",
    "- conflicting haplotypes\n",
    "And also\n",
    "- One log file containing overall summary\n"
    "- and 2 files containin containing pairs information"
   ]
  },
  {
   "cell_type": "markdown",
   "id": "f1f2a7a1",
   "metadata": {},
   "source": [
    "You may compare the results with the example outputs located in the folder \"example_output\" to see if the outputs are correct."
   ]
  }
 ],
 "metadata": {
  "kernelspec": {
   "display_name": "Python 3 (ipykernel)",
   "language": "python",
   "name": "python3"
  },
  "language_info": {
   "codemirror_mode": {
    "name": "ipython",
    "version": 3
   },
   "file_extension": ".py",
   "mimetype": "text/x-python",
   "name": "python",
   "nbconvert_exporter": "python",
   "pygments_lexer": "ipython3",
   "version": "3.10.0"
  }
 },
 "nbformat": 4,
 "nbformat_minor": 5
}
