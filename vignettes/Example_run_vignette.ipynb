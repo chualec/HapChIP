{
 "cells": [
  {
   "cell_type": "markdown",
   "id": "8880a20c",
   "metadata": {},
   "source": [
    "Thank you for using this script!\n",
    "This is HapChIP, a tool that is useful for parsing HiChIP data and splitting them based on haplotype information\n",
    "The goal of this short tutorial is to help you install the tool, run it on example data, and interprate the results\n",
    "\"The example data provided is in the folder titled \"example_input\"\n",
    "Whereas the example output data is in the folder title \"example_output\"\n",
    "\n",
    "To install the tool, run this command:"
   ]
  },
  {
   "cell_type": "code",
   "execution_count": null,
   "id": "debb7280",
   "metadata": {},
   "outputs": [],
   "source": [
    "#Clone the repository\n",
    "git clone https://github.com/chualec/HapChIP\n",
    "\n",
    "# Move to the folder\n",
    "cd HapChIP\\n\",\n",
    "\n",
    "# Install necessary packages using conda\n",
    "conda create env --name env --file env.yaml"
   ]
  },
  {
   "cell_type": "markdown",
   "id": "d482941a",
   "metadata": {},
   "source": [
    "If you don't have conda installed, you will need to install numpy, pysam and samtools on your own to continue\n",
    "Once you have the neccessary packages installed, you may test the tool from the command line using this command"
   ]
  },
  {
   "cell_type": "code",
   "execution_count": null,
   "id": "61d9320f",
   "metadata": {},
   "outputs": [],
   "source": [
    "bash tutorials/example_run.sh"
   ]
  },
  {
   "cell_type": "markdown",
   "id": "42d69524",
   "metadata": {},
   "source": [
    "If there is no error, then the code has successfully run and you are set to run it on our own data!\n",
    "\n",
    "The code will take around 15 seconds to run, and will result in 5 output files in the example_output folder:\\n\",\n",
    "\n",
    "4 bam files containing reads split into either\n",
    "    - haplotype 1\n",
    "    - haplotype 2\n",
    "    - unknown haplotypes\n",
    "    - conflicting haplotypes\n",
    "    And also\n",
    "    - One log file containing overall summary\n",
    "    - and 2 files containin containing pairs information\n",
    "You may compare the results with the example outputs located in the folder \"example_output\" to see if the outputs are correct."
   ]
  }
 ],
 "metadata": {
  "kernelspec": {
   "display_name": "Python 3 (ipykernel)",
   "language": "python",
   "name": "python3"
  },
  "language_info": {
   "codemirror_mode": {
    "name": "ipython",
    "version": 3
   },
   "file_extension": ".py",
   "mimetype": "text/x-python",
   "name": "python",
   "nbconvert_exporter": "python",
   "pygments_lexer": "ipython3",
   "version": "3.10.0"
  }
 },
 "nbformat": 4,
 "nbformat_minor": 5
}
